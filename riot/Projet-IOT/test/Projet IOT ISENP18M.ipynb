{
 "cells": [
  {
   "cell_type": "markdown",
   "metadata": {
    "tags": []
   },
   "source": [
    "## IOT project ISEN ITII\n",
    "## Performed by Arnaud SOUQUIERE, Claude REVERSAT & Frederic CHAIRAT\n",
    "\n",
    "\n",
    "This project is a trial using IoT-LAB M3 boards withs sensors, leds, LoraWan communications & interface with Cloud.\n",
    "\n",
    "We will try to measure on lots of boards, for example on Saclay site, temperature, atmospheric pressure & ambiant luminosity.\n",
    "Then after all led turned ON, check if ambiant luminosity had increased on one specific board.\n",
    "\n",
    "All thoses data will be transferred on The Thing Network to be put under best view\n",
    "\n",
    "\n",
    "\n",
    "### Please first submit an experiment on IoT-LAB\n",
    "\n",
    "1. Choose your site (grenoble|lille|saclay|strasbourg):\n",
    "\n",
    "Grenoble is recommended due to boards location situated under floor"
   ]
  },
  {
   "cell_type": "code",
   "execution_count": 1,
   "metadata": {},
   "outputs": [
    {
     "name": "stdout",
     "output_type": "stream",
     "text": [
      "env: SITE=grenoble\n"
     ]
    }
   ],
   "source": [
    "%env SITE=grenoble"
   ]
  },
  {
   "cell_type": "markdown",
   "metadata": {},
   "source": [
    "2. Submit an experiment on 50 boards, using the following command (during 2 hours, recommended to be done on evening or night):"
   ]
  },
  {
   "cell_type": "code",
   "execution_count": 2,
   "metadata": {},
   "outputs": [
    {
     "name": "stdout",
     "output_type": "stream",
     "text": [
      "Using custom api_url: https://www.iot-lab.info/api/\n",
      "{\n",
      "    \"id\": 298514\n",
      "}\n"
     ]
    }
   ],
   "source": [
    "!iotlab-experiment submit -n \"riot-sensors\" -d 120 -l 1,archi=m3:at86rf231+site=$SITE"
   ]
  },
  {
   "cell_type": "code",
   "execution_count": 3,
   "metadata": {},
   "outputs": [
    {
     "name": "stdout",
     "output_type": "stream",
     "text": [
      "env: ID1=298514\n",
      "env: ID2=xxxxxx\n"
     ]
    }
   ],
   "source": [
    "%env ID1=298514\n",
    "%env ID2=xxxxxx"
   ]
  },
  {
   "cell_type": "markdown",
   "metadata": {},
   "source": [
    "3. Wait for the experiment to be in the Running state:\n",
    "\n",
    "Add the good ID number at --id"
   ]
  },
  {
   "cell_type": "code",
   "execution_count": 4,
   "metadata": {},
   "outputs": [
    {
     "name": "stdout",
     "output_type": "stream",
     "text": [
      "Using custom api_url: https://www.iot-lab.info/api/\n",
      "Waiting that experiment 298514 gets in state Running\n",
      "\"Running\"\n"
     ]
    }
   ],
   "source": [
    "!iotlab-experiment wait --timeout 30 --cancel-on-timeout --id $ID1"
   ]
  },
  {
   "cell_type": "markdown",
   "metadata": {},
   "source": [
    "**Note:** If the command above returns the message `Timeout reached, cancelling experiment <exp_id>`, try to re-submit your experiment later or try on another site."
   ]
  },
  {
   "cell_type": "markdown",
   "metadata": {},
   "source": [
    "4. Get the experiment nodes list:\n",
    "\n",
    "Add the good ID number at --id"
   ]
  },
  {
   "cell_type": "code",
   "execution_count": 5,
   "metadata": {},
   "outputs": [
    {
     "name": "stdout",
     "output_type": "stream",
     "text": [
      "Using custom api_url: https://www.iot-lab.info/api/\n",
      "[\n",
      "    \"m3-100.grenoble.iot-lab.info\"\n",
      "]\n"
     ]
    }
   ],
   "source": [
    "!iotlab-experiment --jmespath=\"items[*].network_address | sort(@)\" get --nodes --id $ID1"
   ]
  },
  {
   "cell_type": "markdown",
   "metadata": {},
   "source": [
    "### A modifier à partir de là !\n",
    "\n",
    "\n",
    "\n",
    "7. Build and flash the application:"
   ]
  },
  {
   "cell_type": "code",
   "execution_count": 6,
   "metadata": {},
   "outputs": [
    {
     "name": "stdout",
     "output_type": "stream",
     "text": [
      "Using custom api_url: https://www.iot-lab.info/api/\n",
      "Using custom api_url: https://www.iot-lab.info/api/\n",
      "Using custom api_url: https://www.iot-lab.info/api/\n",
      "/home/jovyan/work/training/iot-lab-training/riot/Projet-IOT/test/../../RIOT/Makefile.include:703: warning: overriding recipe for target 'IOT'\n",
      "/home/jovyan/work/training/iot-lab-training/riot/Projet-IOT/test/../../RIOT/Makefile.include:694: warning: ignoring old recipe for target 'IOT'\n",
      "\u001b[1;32mBuilding application \"Projet IOT ISENP18M\" for \"iotlab-m3\" with MCU \"stm32\".\u001b[0m\n",
      "\n",
      "/home/jovyan/work/training/iot-lab-training/riot/RIOT/makefiles/blob.inc.mk:53: warning: overriding recipe for target '/home/jovyan/work/training/iot-lab-training/riot/Projet-IOT/test/bin/iotlab-m3/application_Projet'\n",
      "/home/jovyan/work/training/iot-lab-training/riot/RIOT/makefiles/blob.inc.mk:50: warning: ignoring old recipe for target '/home/jovyan/work/training/iot-lab-training/riot/Projet-IOT/test/bin/iotlab-m3/application_Projet'\n",
      "/home/jovyan/work/training/iot-lab-training/riot/RIOT/makefiles/blob.inc.mk:53: warning: overriding recipe for target 'IOT'\n",
      "/home/jovyan/work/training/iot-lab-training/riot/RIOT/makefiles/blob.inc.mk:50: warning: ignoring old recipe for target 'IOT'\n",
      "/home/jovyan/work/training/iot-lab-training/riot/RIOT/makefiles/blob.inc.mk:52: *** mixed implicit and normal rules: deprecated syntax\n",
      "/home/jovyan/work/training/iot-lab-training/riot/RIOT/Makefile.base:118: warning: overriding recipe for target '/home/jovyan/work/training/iot-lab-training/riot/Projet-IOT/test/bin/iotlab-m3/application_Projet'\n",
      "/home/jovyan/work/training/iot-lab-training/riot/RIOT/makefiles/blob.inc.mk:53: warning: ignoring old recipe for target '/home/jovyan/work/training/iot-lab-training/riot/Projet-IOT/test/bin/iotlab-m3/application_Projet'\n",
      "/home/jovyan/work/training/iot-lab-training/riot/RIOT/Makefile.base:118: warning: overriding recipe for target 'IOT'\n",
      "/home/jovyan/work/training/iot-lab-training/riot/RIOT/makefiles/blob.inc.mk:53: warning: ignoring old recipe for target 'IOT'\n",
      "/home/jovyan/work/training/iot-lab-training/riot/RIOT/Makefile.base:132: warning: overriding recipe for target 'IOT'\n",
      "/home/jovyan/work/training/iot-lab-training/riot/RIOT/Makefile.base:118: warning: ignoring old recipe for target 'IOT'\n",
      "/home/jovyan/work/training/iot-lab-training/riot/RIOT/Makefile.base:145: *** multiple target patterns.  Stop.\n",
      "make: *** [/home/jovyan/work/training/iot-lab-training/riot/Projet-IOT/test/../../RIOT/Makefile.include:703: application_Projet] Error 2\n"
     ]
    }
   ],
   "source": [
    "!make IOTLAB_NODE=auto flash"
   ]
  },
  {
   "cell_type": "markdown",
   "metadata": {},
   "source": [
    "8. Open a Jupyter terminal (use `File > New > Terminal`) and connect to the serial port of the IoT-LAB M3 and observe the value displayed every 2 seconds:"
   ]
  },
  {
   "cell_type": "raw",
   "metadata": {},
   "source": [
    "make IOTLAB_NODE=auto -C riot/basics/sensors term"
   ]
  },
  {
   "cell_type": "markdown",
   "metadata": {},
   "source": [
    "9. In the RIOT shell, verify that the `lps` command is working as expected:"
   ]
  },
  {
   "cell_type": "raw",
   "metadata": {},
   "source": [
    "> lps\n",
    "lps\n",
    "usage: lps <temparature|pressure>\n",
    "> lps temperature\n",
    "lps temperature\n",
    "Temperature: 37.02°C\n",
    "> lps pressure\n",
    "lps pressure\n",
    "Pressure: 998hPa"
   ]
  },
  {
   "cell_type": "markdown",
   "metadata": {},
   "source": [
    "You can keep this terminal open while performing the next steps of this notebook.\n",
    "\n",
    "### Read the lsm303dlhc sensor\n",
    "\n",
    "\n",
    "To read the lsm303dlhc sensor in a loop and to start/stop this continous read from a shell command, we will use 2 things:\n",
    "- the continuous read will be done in a separate thread `lsm303dlhc_thread`,\n",
    "- the start/stop feature will use one of the synchronization mechanisms available in RIOT: a mutex. The idea is make the lsm303dlhc thread try to aquire the mutex before reading the values. If the mutex is already aquired by the main thread, the lsm303dlhc thread will be blocked, trying to aquire it. So the start subcommand of the `lsm` shell will just release the mutex to let the lsm303dlhc thread read the values. After each read, the lsm303dlhc thread will release the mutex. The stop subcommand of the `lsm` shell will just aquire the mutex again to clock the lsm303dlhc thread.\n",
    "To read the lsm303dlhc sensor, use the lsm303dlhc module driver. In this part of the exercise, the driver is read from a separate background thread.\n",
    "\n",
    "1. In the application [Makefile](Makefile), add the lsm303dlhc module to the build:\n",
    "\n",
    "```Makefile\n",
    "USEMODULE += lsm303dlhc\n",
    "```\n",
    "\n",
    "2. In the [main.c](main.c), add the necessary includes for this driver:\n",
    "\n",
    "```c\n",
    "#include \"lsm303dlhc.h\"\n",
    "#include \"lsm303dlhc_params.h\"\n",
    "```\n",
    "\n",
    "3. Declare the device descriptor variable:\n",
    "\n",
    "```c\n",
    "static lsm303dlhc_t lsm303dlhc;\n",
    "```\n",
    "\n",
    "4. Declate the mutex used to lock/unlock the lsm303dlhc thread. The mutex is initialized locked in order to block the lsm303dlhc thread at startup.\n",
    "\n",
    "```c\n",
    "static mutex_t lsm_lock = MUTEX_INIT_LOCKED;\n",
    "```\n",
    "\n",
    "\n",
    "5. In the main function, initialize the driver:\n",
    "\n",
    "```c\n",
    "    lsm303dlhc_init(&lsm303dlhc, &lsm303dlhc_params[0]);\n",
    "```\n",
    "\n",
    "6. In the lsm303dlhc thread function, acquire the mutex. This call blocks the thread until the mutew is released by another thread:\n",
    "\n",
    "```c\n",
    "        mutex_lock(&lsm_lock);\n",
    "```\n",
    "\n",
    "7. In the lsm303dlhc thread function, after the mutex is aquired, the accelerometer/magnetometer values can be read:\n",
    "\n",
    "```c\n",
    "        lsm303dlhc_3d_data_t mag_value;\n",
    "        lsm303dlhc_3d_data_t acc_value;\n",
    "        lsm303dlhc_read_acc(&lsm303dlhc, &acc_value);\n",
    "        printf(\"Accelerometer x: %i y: %i z: %i\\n\",\n",
    "               acc_value.x_axis, acc_value.y_axis, acc_value.z_axis);\n",
    "        lsm303dlhc_read_mag(&lsm303dlhc, &mag_value);\n",
    "        printf(\"Magnetometer x: %i y: %i z: %i\\n\",\n",
    "               mag_value.x_axis, mag_value.y_axis, mag_value.z_axis);\n",
    "```\n",
    "\n",
    "8. Once the values are read, the mutex must be released:\n",
    "\n",
    "```c\n",
    "        mutex_unlock(&lsm_lock);\n",
    "```\n",
    "\n",
    "9. Finally we can implement the `start`/`stop` subcommands of the `lsm` shell command `lsm303dlhc_handler` handler:\n",
    "\n",
    "```c\n",
    "    if (!strcmp(argv[1], \"start\")) {\n",
    "        mutex_unlock(&lsm_lock);\n",
    "    }\n",
    "    else if (!strcmp(argv[1], \"stop\")) {\n",
    "        mutex_trylock(&lsm_lock);\n",
    "    }\n",
    "    else {\n",
    "        _lsm303dlhc_usage(argv[0]);\n",
    "        return -1;\n",
    "    }\n",
    "```\n",
    "   The `stop` subcommand calls the `mutex_trylock` instead of `mutex_lock` to avoid having the shell blocked when `lsm stop` is called several times in row.\n",
    "\n",
    "10. Let's build and flash again the application:"
   ]
  },
  {
   "cell_type": "code",
   "execution_count": null,
   "metadata": {},
   "outputs": [],
   "source": [
    "!make IOTLAB_NODE=auto flash"
   ]
  },
  {
   "cell_type": "markdown",
   "metadata": {},
   "source": [
    "11. If you kept the previous serial output opened in the terminal, you can test the new `lsm` with the `start` and `stop` subcommands"
   ]
  },
  {
   "cell_type": "raw",
   "metadata": {},
   "source": [
    "> lsm\n",
    "lsm\n",
    "usage: lsm <start|stop>\n",
    "> lsm start\n",
    "> lsm start\n",
    "lsm start\n",
    "Accelerometer x: 676 y: 160 z: -228\n",
    "Magnetometer x: -292 y: -73 z: -80\n",
    "> Accelerometer x: 680 y: 156 z: -236\n",
    "Magnetometer x: -292 y: -75 z: -80\n",
    "Accelerometer x: 676 y: 156 z: -240\n",
    "Magnetometer x: -291 y: -73 z: -81\n",
    "Accelerometer x: 672 y: 160 z: -232\n",
    "Magnetometer x: -290 y: -73 z: -78\n",
    "Accelerometer x: 664 y: 152 z: -236\n",
    "Magnetometer x: -292 y: -74 z: -80\n",
    "Accelerometer x: 676 y: 160 z: -236\n",
    "Magnetometer x: -291 y: -74 z: -77\n",
    "Accelerometer x: 676 y: 156 z: -236\n",
    "Magnetometer x: -291 y: -73 z: -81\n",
    "Accelerometer x: 680 y: 152 z: -236\n",
    "Magnetometer x: -290 y: -74 z: -81\n",
    "lsm stopAccelerometer x: 680 y: 160 z: -232\n",
    "Magnetometer x: -290 y: -73 z: -78\n",
    "\n",
    "lsm stop\n",
    "> "
   ]
  },
  {
   "cell_type": "markdown",
   "metadata": {},
   "source": [
    "### Read other sensors\n",
    "\n",
    "As said at the beginning of this Notebook, the IoT-LAB M3 boards provides 2 other sensors:\n",
    "- l3g4200d: a gyroscope\n",
    "- isl29020: a light sensor\n",
    "\n",
    "In this section, we propose that you extend the application with 2 new shell commands, `isl` and `l3g`. The synopsis of these commands is the following:\n",
    "- `isl` should directly read the isl29020 light sensor and print the value:"
   ]
  },
  {
   "cell_type": "raw",
   "metadata": {},
   "source": [
    "> isl\n",
    "isl\n",
    "Light: 10lx"
   ]
  },
  {
   "cell_type": "markdown",
   "metadata": {},
   "source": [
    "- Similar to the lsm303dlhc, `l3g` should have the `start` and `stop` subcommands to start/stop reading the gyroscope values in a loop. The values will be read in a new thread (`l3g4200d_thread`) and the synchronization between the main thread and the l3g4200d thread will use a new mutex `l3g_lock`.\n",
    "\n",
    "**Note:** In Grenoble, all sensors are located under an access floor, so completely in the dark. On this IoT-LAB site, the light sensors won't return usable values (always 0).\n",
    "\n",
    "To help you with the APIs usage of the corresponding drivers, you can have a look at the following resources:\n",
    "- [isl29020 API online documentation](http://doc.riot-os.org/group__drivers__isl29020.html)\n",
    "- The [isl2920 test application code](https://github.com/RIOT-OS/RIOT/tree/master/tests/driver_isl29020) can also be useful\n",
    "- [l3g4200d API online documentation](http://doc.riot-os.org/group__drivers__l3g4200d.html)\n",
    "- The [l3g4200d test application code](https://github.com/RIOT-OS/RIOT/tree/master/tests/driver_l3g4200d) can also be useful\n",
    "\n",
    "Also, don't forget to add the corresponding modules in the [Makefile](Makefile).\n",
    "\n",
    "Once done, you can rebuild and flash your application."
   ]
  },
  {
   "cell_type": "code",
   "execution_count": null,
   "metadata": {},
   "outputs": [],
   "source": [
    "!make IOTLAB_NODE=auto flash"
   ]
  },
  {
   "cell_type": "markdown",
   "metadata": {},
   "source": [
    "**Note:** If your experiment is already stopped, you can submit another one as explained in the \"Submit an experiment on IoT-LAB\" section.\n",
    "\n",
    "\n",
    "**Optional improvement:** the continuous read is always done every 500ms. It is possible to extend the `lsm start` and `l3g start` commands with an extra parameter to specify the delay between each read:"
   ]
  },
  {
   "cell_type": "raw",
   "metadata": {},
   "source": [
    "> lsm\n",
    "lsm\n",
    "usage: lsm <start|stop> [delay ms]\n",
    "> l3g\n",
    "l3g\n",
    "usage: l3g <start|stop> [delay ms]"
   ]
  },
  {
   "cell_type": "markdown",
   "metadata": {},
   "source": [
    "If unspecified (`argc < 3`) the delay value is set by default to 500ms. If specified (`argc == 3`), the argument (`argv[2]`) can be converted to an int using the `atoi` function. The delay value can be stored in a global static variable (`uint32_t`).\n",
    "\n",
    "The following command should read the lsm303dlhc values every 2s:"
   ]
  },
  {
   "cell_type": "raw",
   "metadata": {},
   "source": [
    "> lsm start 2000\n",
    "Accelerometer x: 672 y: 156 z: -232\n",
    "Magnetometer x: -292 y: -73 z: -81\n",
    "> Accelerometer x: 672 y: 156 z: -236\n",
    "Magnetometer x: -292 y: -74 z: -80\n",
    "Accelerometer x: 676 y: 160 z: -240\n",
    "Magnetometer x: -292 y: -73 z: -78\n",
    "lsm stop"
   ]
  },
  {
   "cell_type": "markdown",
   "metadata": {},
   "source": [
    "### Free up the resources\n",
    "\n",
    "Since you finished the training, stop your experiment to free up the experiment nodes:"
   ]
  },
  {
   "cell_type": "code",
   "execution_count": 18,
   "metadata": {},
   "outputs": [
    {
     "name": "stdout",
     "output_type": "stream",
     "text": [
      "Using custom api_url: https://www.iot-lab.info/api/\n",
      "HTTP Error 500: \n",
      "\t{\"code\":500,\"message\":\"Experiment state is not allowed: Stopped\"}\n"
     ]
    }
   ],
   "source": [
    "!iotlab-experiment stop --id $ID1"
   ]
  },
  {
   "cell_type": "markdown",
   "metadata": {},
   "source": [
    "The serial link connection through SSH will be closed automatically."
   ]
  }
 ],
 "metadata": {
  "kernelspec": {
   "display_name": "Python 3 (ipykernel)",
   "language": "python",
   "name": "python3"
  },
  "language_info": {
   "codemirror_mode": {
    "name": "ipython",
    "version": 3
   },
   "file_extension": ".py",
   "mimetype": "text/x-python",
   "name": "python",
   "nbconvert_exporter": "python",
   "pygments_lexer": "ipython3",
   "version": "3.9.7"
  }
 },
 "nbformat": 4,
 "nbformat_minor": 4
}
