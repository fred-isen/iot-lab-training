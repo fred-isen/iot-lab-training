{
 "cells": [
  {
   "cell_type": "markdown",
   "metadata": {
    "tags": []
   },
   "source": [
    "## IOT project ISEN ITII\n",
    "## Performed by Arnaud SOUQUIERE, Claude REVERSAT & Frederic CHAIRAT\n",
    "\n",
    "\n",
    "This project is a trial using IoT-LAB M3 boards withs sensors, leds, LoraWan communications & interface with Cloud.\n",
    "\n",
    "We will try to measure on lots of boards, for example on Saclay site, temperature, atmospheric pressure & ambiant luminosity.\n",
    "Then after all led turned ON, check if ambiant luminosity had increased on one specific board.\n",
    "\n",
    "All thoses data will be transferred on The Thing Network to be put under best view\n",
    "\n",
    "### This notebook is adapted to pilote the 50 boards to turn on the Leds\n",
    "\n",
    "### Please first submit an experiment on IoT-LAB\n",
    "\n",
    "1. Choose your site (grenoble|lille|saclay|strasbourg):\n",
    "\n",
    "Grenoble is recommended due to boards location situated under floor\n",
    "should be the same site as Projet-IOT"
   ]
  },
  {
   "cell_type": "code",
   "execution_count": 21,
   "metadata": {},
   "outputs": [
    {
     "name": "stdout",
     "output_type": "stream",
     "text": [
      "env: SITE1=grenoble\n"
     ]
    }
   ],
   "source": [
    "%env SITE1=grenoble"
   ]
  },
  {
   "cell_type": "markdown",
   "metadata": {},
   "source": [
    "2. Submit a first experiment on 50 boards, using the following command (during 2 hours, recommended to be done on evening or night):"
   ]
  },
  {
   "cell_type": "code",
   "execution_count": 22,
   "metadata": {},
   "outputs": [
    {
     "name": "stdout",
     "output_type": "stream",
     "text": [
      "{\n",
      "    \"id\": 306795\n",
      "}\n"
     ]
    }
   ],
   "source": [
    "!iotlab-experiment submit -n \"TP-LED\" -d 120 -l 10,archi=m3:at86rf231+site=$SITE1"
   ]
  },
  {
   "cell_type": "markdown",
   "metadata": {},
   "source": [
    "3. Wait for the experiment to be in the Running state:\n",
    "If needed, please set the good ID number with --id xxxx at the end of command"
   ]
  },
  {
   "cell_type": "code",
   "execution_count": 23,
   "metadata": {},
   "outputs": [
    {
     "name": "stdout",
     "output_type": "stream",
     "text": [
      "Waiting that experiment 306795 gets in state Running\n",
      "\"Running\"\n"
     ]
    }
   ],
   "source": [
    "!iotlab-experiment wait --timeout 30 --cancel-on-timeout --id 306795"
   ]
  },
  {
   "cell_type": "markdown",
   "metadata": {},
   "source": [
    "**Note:** If the command above returns the message `Timeout reached, cancelling experiment <exp_id>`, try to re-submit your experiment later or try on another site."
   ]
  },
  {
   "cell_type": "markdown",
   "metadata": {},
   "source": [
    "4. Get the experiment nodes list:\n",
    "\n",
    "If needed, please set the good ID number with --id xxxx at the end of command"
   ]
  },
  {
   "cell_type": "code",
   "execution_count": 28,
   "metadata": {},
   "outputs": [
    {
     "name": "stdout",
     "output_type": "stream",
     "text": [
      "[\n",
      "    \"m3-95.grenoble.iot-lab.info\",\n",
      "    \"m3-96.grenoble.iot-lab.info\"\n",
      "]\n"
     ]
    }
   ],
   "source": [
    "!iotlab-experiment --jmespath=\"items[*].network_address | sort(@)\" get --nodes --id 306795"
   ]
  },
  {
   "cell_type": "markdown",
   "metadata": {
    "tags": []
   },
   "source": [
    "#### Radio settings\n",
    "\n",
    "If you are running this training at the same time as other people on the testbed, it is a good idea to change the default radio configuration to avoid too much collision with others.\n",
    "\n",
    "Use the following cell to give you random values for channel and PAN ID."
   ]
  },
  {
   "cell_type": "code",
   "execution_count": 29,
   "metadata": {},
   "outputs": [
    {
     "name": "stdout",
     "output_type": "stream",
     "text": [
      "Use CHANNEL=17, PAN_ID=0x9529\n"
     ]
    }
   ],
   "source": [
    "import os,binascii,random\n",
    "pan_id = binascii.b2a_hex(os.urandom(2)).decode()\n",
    "channel = random.randint(11, 26)\n",
    "print('Use CHANNEL={}, PAN_ID=0x{}'.format(channel, pan_id))"
   ]
  },
  {
   "cell_type": "markdown",
   "metadata": {},
   "source": [
    "Set environment variables for further use by modifying the values in the cell below with those obtained and run it: \n",
    "\n",
    "Please set the same CHANNEL & PAN_ID as the TP_IOT notebook"
   ]
  },
  {
   "cell_type": "code",
   "execution_count": 30,
   "metadata": {},
   "outputs": [
    {
     "name": "stdout",
     "output_type": "stream",
     "text": [
      "env: CHANNEL=18\n",
      "env: PAN_ID=0x48c6\n"
     ]
    }
   ],
   "source": [
    "%env CHANNEL=18\n",
    "%env PAN_ID=0x48c6"
   ]
  },
  {
   "cell_type": "code",
   "execution_count": 9,
   "metadata": {
    "tags": []
   },
   "outputs": [
    {
     "name": "stdout",
     "output_type": "stream",
     "text": [
      "env: BR_ID=101\n",
      "env: APP_DIR=../RIOT/examples/gnrc_border_router\n",
      "make: Entering directory '/home/jovyan/work/training/iot-lab-training/riot/RIOT/examples/gnrc_border_router'\n",
      "\u001b[1;32mBuilding application \"gnrc_border_router\" for \"iotlab-m3\" with MCU \"stm32\".\u001b[0m\n",
      "\n",
      "\"make\" -C /home/jovyan/work/training/iot-lab-training/riot/RIOT/boards/iotlab-m3\n",
      "\"make\" -C /home/jovyan/work/training/iot-lab-training/riot/RIOT/boards/common/iotlab\n",
      "\"make\" -C /home/jovyan/work/training/iot-lab-training/riot/RIOT/core\n",
      "\"make\" -C /home/jovyan/work/training/iot-lab-training/riot/RIOT/cpu/stm32\n",
      "\"make\" -C /home/jovyan/work/training/iot-lab-training/riot/RIOT/cpu/cortexm_common\n",
      "\"make\" -C /home/jovyan/work/training/iot-lab-training/riot/RIOT/cpu/cortexm_common/periph\n",
      "\"make\" -C /home/jovyan/work/training/iot-lab-training/riot/RIOT/cpu/stm32/periph\n",
      "\"make\" -C /home/jovyan/work/training/iot-lab-training/riot/RIOT/cpu/stm32/stmclk\n",
      "\"make\" -C /home/jovyan/work/training/iot-lab-training/riot/RIOT/cpu/stm32/vectors\n",
      "\"make\" -C /home/jovyan/work/training/iot-lab-training/riot/RIOT/drivers\n",
      "\"make\" -C /home/jovyan/work/training/iot-lab-training/riot/RIOT/drivers/at86rf2xx\n",
      "\"make\" -C /home/jovyan/work/training/iot-lab-training/riot/RIOT/drivers/ethos\n",
      "\"make\" -C /home/jovyan/work/training/iot-lab-training/riot/RIOT/drivers/netdev\n",
      "\"make\" -C /home/jovyan/work/training/iot-lab-training/riot/RIOT/drivers/periph_common\n",
      "\"make\" -C /home/jovyan/work/training/iot-lab-training/riot/RIOT/sys\n",
      "\"make\" -C /home/jovyan/work/training/iot-lab-training/riot/RIOT/sys/auto_init\n",
      "\"make\" -C /home/jovyan/work/training/iot-lab-training/riot/RIOT/sys/div\n",
      "\"make\" -C /home/jovyan/work/training/iot-lab-training/riot/RIOT/sys/evtimer\n",
      "\"make\" -C /home/jovyan/work/training/iot-lab-training/riot/RIOT/sys/fmt\n",
      "\"make\" -C /home/jovyan/work/training/iot-lab-training/riot/RIOT/sys/iolist\n",
      "\"make\" -C /home/jovyan/work/training/iot-lab-training/riot/RIOT/sys/isrpipe\n",
      "\"make\" -C /home/jovyan/work/training/iot-lab-training/riot/RIOT/sys/luid\n",
      "\"make\" -C /home/jovyan/work/training/iot-lab-training/riot/RIOT/sys/malloc_thread_safe\n",
      "\"make\" -C /home/jovyan/work/training/iot-lab-training/riot/RIOT/sys/net/application_layer/uhcp\n",
      "\"make\" -C /home/jovyan/work/training/iot-lab-training/riot/RIOT/sys/net/crosslayer/inet_csum\n",
      "\"make\" -C /home/jovyan/work/training/iot-lab-training/riot/RIOT/sys/net/gnrc\n",
      "\"make\" -C /home/jovyan/work/training/iot-lab-training/riot/RIOT/sys/net/gnrc/netapi\n",
      "\"make\" -C /home/jovyan/work/training/iot-lab-training/riot/RIOT/sys/net/gnrc/netif\n",
      "\"make\" -C /home/jovyan/work/training/iot-lab-training/riot/RIOT/sys/net/gnrc/netif/ethernet\n",
      "\"make\" -C /home/jovyan/work/training/iot-lab-training/riot/RIOT/sys/net/gnrc/netif/hdr\n",
      "\"make\" -C /home/jovyan/work/training/iot-lab-training/riot/RIOT/sys/net/gnrc/netif/ieee802154\n",
      "\"make\" -C /home/jovyan/work/training/iot-lab-training/riot/RIOT/sys/net/gnrc/netif/init_devs\n",
      "\"make\" -C /home/jovyan/work/training/iot-lab-training/riot/RIOT/sys/net/gnrc/netreg\n",
      "\"make\" -C /home/jovyan/work/training/iot-lab-training/riot/RIOT/sys/net/gnrc/network_layer/icmpv6\n",
      "\"make\" -C /home/jovyan/work/training/iot-lab-training/riot/RIOT/sys/net/gnrc/network_layer/icmpv6/echo\n",
      "\"make\" -C /home/jovyan/work/training/iot-lab-training/riot/RIOT/sys/net/gnrc/network_layer/ipv6\n",
      "\"make\" -C /home/jovyan/work/training/iot-lab-training/riot/RIOT/sys/net/gnrc/network_layer/ipv6/hdr\n",
      "\"make\" -C /home/jovyan/work/training/iot-lab-training/riot/RIOT/sys/net/gnrc/network_layer/ipv6/nib\n",
      "\"make\" -C /home/jovyan/work/training/iot-lab-training/riot/RIOT/sys/net/gnrc/network_layer/ndp\n",
      "\"make\" -C /home/jovyan/work/training/iot-lab-training/riot/RIOT/sys/net/gnrc/network_layer/sixlowpan\n",
      "\"make\" -C /home/jovyan/work/training/iot-lab-training/riot/RIOT/sys/net/gnrc/network_layer/sixlowpan/ctx\n",
      "\"make\" -C /home/jovyan/work/training/iot-lab-training/riot/RIOT/sys/net/gnrc/network_layer/sixlowpan/frag\n",
      "\"make\" -C /home/jovyan/work/training/iot-lab-training/riot/RIOT/sys/net/gnrc/network_layer/sixlowpan/frag/fb\n",
      "\"make\" -C /home/jovyan/work/training/iot-lab-training/riot/RIOT/sys/net/gnrc/network_layer/sixlowpan/frag/rb\n",
      "\"make\" -C /home/jovyan/work/training/iot-lab-training/riot/RIOT/sys/net/gnrc/network_layer/sixlowpan/iphc\n",
      "\"make\" -C /home/jovyan/work/training/iot-lab-training/riot/RIOT/sys/net/gnrc/network_layer/sixlowpan/nd\n",
      "\"make\" -C /home/jovyan/work/training/iot-lab-training/riot/RIOT/sys/net/gnrc/pkt\n",
      "\"make\" -C /home/jovyan/work/training/iot-lab-training/riot/RIOT/sys/net/gnrc/pktbuf\n",
      "\"make\" -C /home/jovyan/work/training/iot-lab-training/riot/RIOT/sys/net/gnrc/pktbuf_static\n",
      "\"make\" -C /home/jovyan/work/training/iot-lab-training/riot/RIOT/sys/net/gnrc/sock\n",
      "\"make\" -C /home/jovyan/work/training/iot-lab-training/riot/RIOT/sys/net/gnrc/sock/udp\n",
      "\"make\" -C /home/jovyan/work/training/iot-lab-training/riot/RIOT/sys/net/gnrc/transport_layer/udp\n",
      "\"make\" -C /home/jovyan/work/training/iot-lab-training/riot/RIOT/sys/net/gnrc/application_layer/uhcpc\n",
      "\"make\" -C /home/jovyan/work/training/iot-lab-training/riot/RIOT/sys/net/link_layer/eui_provider\n",
      "\"make\" -C /home/jovyan/work/training/iot-lab-training/riot/RIOT/sys/net/link_layer/ieee802154\n",
      "\"make\" -C /home/jovyan/work/training/iot-lab-training/riot/RIOT/sys/net/link_layer/l2util\n",
      "\"make\" -C /home/jovyan/work/training/iot-lab-training/riot/RIOT/sys/net/netif\n",
      "\"make\" -C /home/jovyan/work/training/iot-lab-training/riot/RIOT/sys/net/netutils\n",
      "\"make\" -C /home/jovyan/work/training/iot-lab-training/riot/RIOT/sys/net/network_layer/icmpv6\n",
      "\"make\" -C /home/jovyan/work/training/iot-lab-training/riot/RIOT/sys/net/network_layer/ipv6/addr\n",
      "\"make\" -C /home/jovyan/work/training/iot-lab-training/riot/RIOT/sys/net/network_layer/ipv6/hdr\n",
      "\"make\" -C /home/jovyan/work/training/iot-lab-training/riot/RIOT/sys/net/network_layer/sixlowpan\n",
      "\"make\" -C /home/jovyan/work/training/iot-lab-training/riot/RIOT/sys/net/transport_layer/udp\n",
      "\"make\" -C /home/jovyan/work/training/iot-lab-training/riot/RIOT/sys/newlib_syscalls_default\n",
      "\"make\" -C /home/jovyan/work/training/iot-lab-training/riot/RIOT/sys/pm_layered\n",
      "\"make\" -C /home/jovyan/work/training/iot-lab-training/riot/RIOT/sys/posix/inet\n",
      "\"make\" -C /home/jovyan/work/training/iot-lab-training/riot/RIOT/sys/ps\n",
      "\"make\" -C /home/jovyan/work/training/iot-lab-training/riot/RIOT/sys/random\n",
      "\"make\" -C /home/jovyan/work/training/iot-lab-training/riot/RIOT/sys/shell\n",
      "\"make\" -C /home/jovyan/work/training/iot-lab-training/riot/RIOT/sys/shell/commands\n",
      "\"make\" -C /home/jovyan/work/training/iot-lab-training/riot/RIOT/sys/tsrb\n",
      "\"make\" -C /home/jovyan/work/training/iot-lab-training/riot/RIOT/sys/xtimer\n",
      "   text\t   data\t    bss\t    dec\t    hex\tfilename\n",
      "  80048\t    144\t  22188\t 102380\t  18fec\t/home/jovyan/work/training/iot-lab-training/riot/RIOT/examples/gnrc_border_router/bin/iotlab-m3/gnrc_border_router.elf\n",
      "iotlab-node --jmespath='keys(@)[0]' --format='lambda ret: exit(int(ret))' --id 306691 --list grenoble,m3,101 --flash /home/jovyan/work/training/iot-lab-training/riot/RIOT/examples/gnrc_border_router/bin/iotlab-m3/gnrc_border_router.bin\n",
      "make: Leaving directory '/home/jovyan/work/training/iot-lab-training/riot/RIOT/examples/gnrc_border_router'\n"
     ]
    }
   ],
   "source": [
    "%env BR_ID = 101\n",
    "%env APP_DIR = ../RIOT/examples/gnrc_border_router\n",
    "!make IOTLAB_EXP_ID=306691 -C $APP_DIR ETHOS_BAUDRATE=500000 BOARD=iotlab-m3 DEFAULT_CHANNEL=$CHANNEL DEFAULT_PAN_ID=$PAN_ID IOTLAB_NODE=m3-$BR_ID.$SITE1.iot-lab.info flash "
   ]
  },
  {
   "cell_type": "markdown",
   "metadata": {},
   "source": [
    "Main & Makefile had been adapted to perform good functionallity of the programm.\n",
    "\n",
    "7. Build and flash the application: replace <id>"
   ]
  },
  {
   "cell_type": "code",
   "execution_count": 31,
   "metadata": {},
   "outputs": [
    {
     "name": "stdout",
     "output_type": "stream",
     "text": [
      "\u001b[1;32mBuilding application \"Projet_LED\" for \"iotlab-m3\" with MCU \"stm32\".\u001b[0m\n",
      "\n",
      "\"make\" -C /home/jovyan/work/training/iot-lab-training/riot/RIOT/boards/iotlab-m3\n",
      "\"make\" -C /home/jovyan/work/training/iot-lab-training/riot/RIOT/boards/common/iotlab\n",
      "\"make\" -C /home/jovyan/work/training/iot-lab-training/riot/RIOT/core\n",
      "\"make\" -C /home/jovyan/work/training/iot-lab-training/riot/RIOT/cpu/stm32\n",
      "\"make\" -C /home/jovyan/work/training/iot-lab-training/riot/RIOT/cpu/cortexm_common\n",
      "\"make\" -C /home/jovyan/work/training/iot-lab-training/riot/RIOT/cpu/cortexm_common/periph\n",
      "\"make\" -C /home/jovyan/work/training/iot-lab-training/riot/RIOT/cpu/stm32/periph\n",
      "\"make\" -C /home/jovyan/work/training/iot-lab-training/riot/RIOT/cpu/stm32/stmclk\n",
      "\"make\" -C /home/jovyan/work/training/iot-lab-training/riot/RIOT/cpu/stm32/vectors\n",
      "\"make\" -C /home/jovyan/work/training/iot-lab-training/riot/RIOT/drivers\n",
      "\"make\" -C /home/jovyan/work/training/iot-lab-training/riot/RIOT/drivers/at86rf2xx\n",
      "\"make\" -C /home/jovyan/work/training/iot-lab-training/riot/RIOT/drivers/isl29020\n",
      "\"make\" -C /home/jovyan/work/training/iot-lab-training/riot/RIOT/drivers/l3g4200d\n",
      "\"make\" -C /home/jovyan/work/training/iot-lab-training/riot/RIOT/drivers/lpsxxx\n",
      "\"make\" -C /home/jovyan/work/training/iot-lab-training/riot/RIOT/drivers/lsm303dlhc\n",
      "\"make\" -C /home/jovyan/work/training/iot-lab-training/riot/RIOT/drivers/netdev\n",
      "\"make\" -C /home/jovyan/work/training/iot-lab-training/riot/RIOT/drivers/periph_common\n",
      "\"make\" -C /home/jovyan/work/training/iot-lab-training/riot/RIOT/sys\n",
      "\"make\" -C /home/jovyan/work/training/iot-lab-training/riot/RIOT/sys/auto_init\n",
      "\"make\" -C /home/jovyan/work/training/iot-lab-training/riot/RIOT/sys/div\n",
      "\"make\" -C /home/jovyan/work/training/iot-lab-training/riot/RIOT/sys/evtimer\n",
      "\"make\" -C /home/jovyan/work/training/iot-lab-training/riot/RIOT/sys/fmt\n",
      "\"make\" -C /home/jovyan/work/training/iot-lab-training/riot/RIOT/sys/frac\n",
      "\"make\" -C /home/jovyan/work/training/iot-lab-training/riot/RIOT/sys/isrpipe\n",
      "\"make\" -C /home/jovyan/work/training/iot-lab-training/riot/RIOT/sys/luid\n",
      "\"make\" -C /home/jovyan/work/training/iot-lab-training/riot/RIOT/sys/malloc_thread_safe\n",
      "\"make\" -C /home/jovyan/work/training/iot-lab-training/riot/RIOT/sys/net/crosslayer/inet_csum\n",
      "\"make\" -C /home/jovyan/work/training/iot-lab-training/riot/RIOT/sys/net/gnrc\n",
      "\"make\" -C /home/jovyan/work/training/iot-lab-training/riot/RIOT/sys/net/gnrc/netapi\n",
      "\"make\" -C /home/jovyan/work/training/iot-lab-training/riot/RIOT/sys/net/gnrc/netif\n",
      "\"make\" -C /home/jovyan/work/training/iot-lab-training/riot/RIOT/sys/net/gnrc/netif/hdr\n",
      "\"make\" -C /home/jovyan/work/training/iot-lab-training/riot/RIOT/sys/net/gnrc/netif/ieee802154\n",
      "\"make\" -C /home/jovyan/work/training/iot-lab-training/riot/RIOT/sys/net/gnrc/netif/init_devs\n",
      "\"make\" -C /home/jovyan/work/training/iot-lab-training/riot/RIOT/sys/net/gnrc/netreg\n",
      "\"make\" -C /home/jovyan/work/training/iot-lab-training/riot/RIOT/sys/net/gnrc/network_layer/icmpv6\n",
      "\"make\" -C /home/jovyan/work/training/iot-lab-training/riot/RIOT/sys/net/gnrc/network_layer/icmpv6/echo\n",
      "\"make\" -C /home/jovyan/work/training/iot-lab-training/riot/RIOT/sys/net/gnrc/network_layer/icmpv6/error\n",
      "\"make\" -C /home/jovyan/work/training/iot-lab-training/riot/RIOT/sys/net/gnrc/network_layer/ipv6\n",
      "\"make\" -C /home/jovyan/work/training/iot-lab-training/riot/RIOT/sys/net/gnrc/network_layer/ipv6/hdr\n",
      "\"make\" -C /home/jovyan/work/training/iot-lab-training/riot/RIOT/sys/net/gnrc/network_layer/ipv6/nib\n",
      "\"make\" -C /home/jovyan/work/training/iot-lab-training/riot/RIOT/sys/net/gnrc/network_layer/ndp\n",
      "\"make\" -C /home/jovyan/work/training/iot-lab-training/riot/RIOT/sys/net/gnrc/network_layer/sixlowpan\n",
      "\"make\" -C /home/jovyan/work/training/iot-lab-training/riot/RIOT/sys/net/gnrc/network_layer/sixlowpan/ctx\n",
      "\"make\" -C /home/jovyan/work/training/iot-lab-training/riot/RIOT/sys/net/gnrc/network_layer/sixlowpan/frag\n",
      "\"make\" -C /home/jovyan/work/training/iot-lab-training/riot/RIOT/sys/net/gnrc/network_layer/sixlowpan/frag/fb\n",
      "\"make\" -C /home/jovyan/work/training/iot-lab-training/riot/RIOT/sys/net/gnrc/network_layer/sixlowpan/frag/rb\n",
      "\"make\" -C /home/jovyan/work/training/iot-lab-training/riot/RIOT/sys/net/gnrc/network_layer/sixlowpan/iphc\n",
      "\"make\" -C /home/jovyan/work/training/iot-lab-training/riot/RIOT/sys/net/gnrc/network_layer/sixlowpan/nd\n",
      "\"make\" -C /home/jovyan/work/training/iot-lab-training/riot/RIOT/sys/net/gnrc/pkt\n",
      "\"make\" -C /home/jovyan/work/training/iot-lab-training/riot/RIOT/sys/net/gnrc/pktbuf\n",
      "\"make\" -C /home/jovyan/work/training/iot-lab-training/riot/RIOT/sys/net/gnrc/pktbuf_static\n",
      "\"make\" -C /home/jovyan/work/training/iot-lab-training/riot/RIOT/sys/net/gnrc/pktdump\n",
      "\"make\" -C /home/jovyan/work/training/iot-lab-training/riot/RIOT/sys/net/gnrc/routing/rpl\n",
      "\"make\" -C /home/jovyan/work/training/iot-lab-training/riot/RIOT/sys/net/gnrc/transport_layer/udp\n",
      "\"make\" -C /home/jovyan/work/training/iot-lab-training/riot/RIOT/sys/net/link_layer/eui_provider\n",
      "\"make\" -C /home/jovyan/work/training/iot-lab-training/riot/RIOT/sys/net/link_layer/ieee802154\n",
      "\"make\" -C /home/jovyan/work/training/iot-lab-training/riot/RIOT/sys/net/link_layer/l2util\n",
      "\"make\" -C /home/jovyan/work/training/iot-lab-training/riot/RIOT/sys/net/netif\n",
      "\"make\" -C /home/jovyan/work/training/iot-lab-training/riot/RIOT/sys/net/netutils\n",
      "\"make\" -C /home/jovyan/work/training/iot-lab-training/riot/RIOT/sys/net/network_layer/icmpv6\n",
      "\"make\" -C /home/jovyan/work/training/iot-lab-training/riot/RIOT/sys/net/network_layer/ipv6/addr\n",
      "\"make\" -C /home/jovyan/work/training/iot-lab-training/riot/RIOT/sys/net/network_layer/ipv6/hdr\n",
      "\"make\" -C /home/jovyan/work/training/iot-lab-training/riot/RIOT/sys/net/network_layer/sixlowpan\n",
      "\"make\" -C /home/jovyan/work/training/iot-lab-training/riot/RIOT/sys/net/transport_layer/udp\n",
      "\"make\" -C /home/jovyan/work/training/iot-lab-training/riot/RIOT/sys/newlib_syscalls_default\n",
      "\"make\" -C /home/jovyan/work/training/iot-lab-training/riot/RIOT/sys/od\n",
      "\"make\" -C /home/jovyan/work/training/iot-lab-training/riot/RIOT/sys/pm_layered\n",
      "\"make\" -C /home/jovyan/work/training/iot-lab-training/riot/RIOT/sys/ps\n",
      "\"make\" -C /home/jovyan/work/training/iot-lab-training/riot/RIOT/sys/random\n",
      "\"make\" -C /home/jovyan/work/training/iot-lab-training/riot/RIOT/sys/shell\n",
      "\"make\" -C /home/jovyan/work/training/iot-lab-training/riot/RIOT/sys/shell/commands\n",
      "\"make\" -C /home/jovyan/work/training/iot-lab-training/riot/RIOT/sys/stdio_uart\n",
      "\"make\" -C /home/jovyan/work/training/iot-lab-training/riot/RIOT/sys/trickle\n",
      "\"make\" -C /home/jovyan/work/training/iot-lab-training/riot/RIOT/sys/tsrb\n",
      "\"make\" -C /home/jovyan/work/training/iot-lab-training/riot/RIOT/sys/xtimer\n",
      "\"make\" -C /home/jovyan/work/training/iot-lab-training/riot/RIOT/sys/ztimer\n",
      "   text\t   data\t    bss\t    dec\t    hex\tfilename\n",
      "  98776\t    192\t  21916\t 120884\t  1d834\t/home/jovyan/work/training/iot-lab-training/riot/Projet-LED/bin/iotlab-m3/Projet_LED.elf\n",
      "{\n",
      "    \"0\": [\n",
      "        \"m3-95.grenoble.iot-lab.info\",\n",
      "        \"m3-96.grenoble.iot-lab.info\"\n",
      "    ]\n",
      "}\n"
     ]
    }
   ],
   "source": [
    "!make IOTLAB_EXP_ID=306795 DEFAULT_CHANNEL=$CHANNEL DEFAULT_PAN_ID=$PAN_ID iotlab-flash\n",
    "#!make IOTLAB_PHY_NODES=95-96+100-102 flash\n",
    "#!make IOTLAB_EXP_ID=304127 iotlab-flash"
   ]
  },
  {
   "cell_type": "markdown",
   "metadata": {},
   "source": [
    "8. Open a Jupyter terminal (use `File > New > Terminal`) and connect to the IoT-LAB M3"
   ]
  },
  {
   "cell_type": "raw",
   "metadata": {},
   "source": [
    "make IOTLAB_EXP_ID=<id> -C riot/Projet-LED iotlab-term\n",
    "    ou\n",
    "make IOTLAB_NODES=5 -C riot/Projet-LED iotlab-term"
   ]
  },
  {
   "cell_type": "markdown",
   "metadata": {},
   "source": [
    "After \"Agregator started\", please type \"help\" to view commands\n",
    "For Project, type \"led start\" to turn on All leds on All boards\n",
    "\"isl start\" can also measure lux on all boards\n",
    "Then you can start second part of project with TP-IOT notebook"
   ]
  },
  {
   "cell_type": "markdown",
   "metadata": {},
   "source": [
    "Test des commandes suivantes : \n",
    "udp server start 8888 ==> Creation d'un serveur UDP sur chacune des cartes\n",
    "udp send fe80::a433:aff8:2ffa:5bfa 8888 \"toto\" ==> Envoi de toto à la carte 12 (adresse ipv6)\n",
    "\n",
    "On recoit sur le terminal :\n",
    "1647901561.455288;m3-12;~~ SNIP  0 - size:   4 byte, type: NETTYPE_UNDEF (0)\n",
    "1647901561.455338;m3-12;00000000  74  6F  74  6F\n"
   ]
  },
  {
   "cell_type": "markdown",
   "metadata": {},
   "source": [
    "### Free up the resources\n",
    "\n",
    "Since you finished the training, stop your experiment to free up the experiment nodes:\n",
    "\n",
    "If needed, please set the good ID number with --id xxxx at the end of command"
   ]
  },
  {
   "cell_type": "code",
   "execution_count": 20,
   "metadata": {},
   "outputs": [
    {
     "name": "stdout",
     "output_type": "stream",
     "text": [
      "{\n",
      "    \"id\": 306792,\n",
      "    \"status\": \"Delete request registered\"\n",
      "}\n"
     ]
    }
   ],
   "source": [
    "!iotlab-experiment stop --id 306792"
   ]
  },
  {
   "cell_type": "markdown",
   "metadata": {},
   "source": [
    "The serial link connection through SSH will be closed automatically."
   ]
  }
 ],
 "metadata": {
  "kernelspec": {
   "display_name": "Python 3 (ipykernel)",
   "language": "python",
   "name": "python3"
  },
  "language_info": {
   "codemirror_mode": {
    "name": "ipython",
    "version": 3
   },
   "file_extension": ".py",
   "mimetype": "text/x-python",
   "name": "python",
   "nbconvert_exporter": "python",
   "pygments_lexer": "ipython3",
   "version": "3.9.7"
  }
 },
 "nbformat": 4,
 "nbformat_minor": 4
}
